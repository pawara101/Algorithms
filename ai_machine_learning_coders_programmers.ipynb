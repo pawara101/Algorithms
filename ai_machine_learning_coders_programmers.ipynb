{
  "cells": [
    {
      "cell_type": "markdown",
      "metadata": {
        "id": "view-in-github",
        "colab_type": "text"
      },
      "source": [
        "<a href=\"https://colab.research.google.com/github/pawara101/Algorithms/blob/main/ai_machine_learning_coders_programmers.ipynb\" target=\"_parent\"><img src=\"https://colab.research.google.com/assets/colab-badge.svg\" alt=\"Open In Colab\"/></a>"
      ]
    },
    {
      "cell_type": "code",
      "execution_count": 3,
      "metadata": {
        "colab": {
          "base_uri": "https://localhost:8080/"
        },
        "id": "0PbqOJSlzAGV",
        "outputId": "c2342bcb-f345-4078-e7af-d17db7a860dc"
      },
      "outputs": [
        {
          "output_type": "stream",
          "name": "stdout",
          "text": [
            "2.9.2\n"
          ]
        }
      ],
      "source": [
        "# TensorFlow and tf.keras\n",
        "import tensorflow as tf\n",
        "\n",
        "# Helper libraries\n",
        "import numpy as np\n",
        "import matplotlib.pyplot as plt\n",
        "\n",
        "print(tf.__version__)"
      ]
    },
    {
      "cell_type": "markdown",
      "metadata": {
        "id": "C7zKUSTNzt8l"
      },
      "source": [
        "# Getting started with ML"
      ]
    },
    {
      "cell_type": "code",
      "execution_count": null,
      "metadata": {
        "id": "50M5oD8Y0C8m"
      },
      "outputs": [],
      "source": [
        "import tensorflow as tf\n",
        "import numpy as np\n",
        "from tensorflow.keras import Sequential\n",
        "from tensorflow.keras.layers import Dense\n",
        "\n",
        "model =  Sequential([Dense(units=1,input_shape=[1])]) # makes one layer with one neuron.\n",
        "model.compile(optimizer='sgd',loss='mean_squared_error')\n",
        "\n",
        "xs = np.array([-1.0, 0.0, 1.0, 2.0, 3.0, 4.0], dtype=float)\n",
        "ys = np.array([-3.0, -1.0, 1.0, 3.0, 5.0, 7.0], dtype=float)\n",
        "\n",
        "model.fit(xs,ys,epochs=500)\n",
        "print(model.predict([10.0]))"
      ]
    },
    {
      "cell_type": "code",
      "execution_count": null,
      "metadata": {
        "id": "j8jwRCf81WMw"
      },
      "outputs": [],
      "source": [
        "## Checking the Weights of network\n",
        "import tensorflow as tf\n",
        "import numpy as np\n",
        "from tensorflow.keras import Sequential\n",
        "from tensorflow.keras.layers import Dense\n",
        "\n",
        "l0 = Dense(units=1,input_shape=[1])\n",
        "model = Sequential([l0])\n",
        "model.compile(optimizer='sgd',loss='mean_squared_error')\n",
        "\n",
        "xs = np.array([-1.0, 0.0, 1.0, 2.0, 3.0, 4.0], dtype=float)\n",
        "ys = np.array([-3.0, -1.0, 1.0, 3.0, 5.0, 7.0], dtype=float)\n",
        "\n",
        "model.fit(xs,ys,epochs=500)\n",
        "\n",
        "print(model.predict([10.1]))\n",
        "\n",
        "print(f'Here are are the weights {l0.get_weights()}')"
      ]
    },
    {
      "cell_type": "markdown",
      "source": [
        "# Introduction to computer vision"
      ],
      "metadata": {
        "id": "FVbcUH2s_6I2"
      }
    },
    {
      "cell_type": "code",
      "source": [
        "from prompt_toolkit.filters.base import test_callable_args\n",
        "# Import TensorFloe -- import tensorFlow as tf\n",
        "# Import Keras\n",
        "\n",
        "\n",
        "from tensorflow import keras\n",
        "\n",
        "## Import data\n",
        "data = tf.keras.datasets.fashion_mnist\n",
        "(training_images, training_labels), (test_images, test_labels) = data.load_data()\n",
        "\n",
        "training_images = training_images/255\n",
        "test_images = test_images/255\n",
        "\n",
        "\n",
        "## Create the ML model\n",
        "model = keras.Sequential([\n",
        "        keras.layers.Flatten(input_shape=(28,28)), # flatten makes 28*28 into 1D array(1*784)\n",
        "        keras.layers.Dense(128,activation=tf.nn.relu), ## Middle layer -- layer between input and output -- relu activator will pass values greater than 0 -- 128 neurons\n",
        "        keras.layers.Dense(10,activation=tf.nn.softmax) ## output layer -- 10 neurons --beacuse of 10 classes\n",
        "])\n",
        "\n",
        "## Compile\n",
        "model.compile(optimizer='adam',\n",
        "              loss='sparse_categorical_crossentropy',\n",
        "              metrics=['accuracy'])\n",
        "\n",
        "## Model fit\n",
        "model.fit(training_images, training_labels,epochs=5)\n",
        "\n",
        "print('=============== model eavluation =====================')\n",
        "\n",
        "## Evaluate the model -- test using test data\n",
        "model.evaluate(test_images,test_labels)\n",
        "\n",
        "## Exploring model output\n",
        "classifications = model.predict(test_images)\n",
        "\n",
        "print(classifications[0]) ## Output gives probabilities of the  prediction values\n",
        "\n",
        "print(test_labels[0]) ## gives the largest probablilty index value"
      ],
      "metadata": {
        "colab": {
          "base_uri": "https://localhost:8080/"
        },
        "id": "CfZAlwF842i4",
        "outputId": "c5a07ca6-6a94-4d82-f9ce-82869ad20652"
      },
      "execution_count": 39,
      "outputs": [
        {
          "output_type": "stream",
          "name": "stdout",
          "text": [
            "Epoch 1/5\n",
            "1875/1875 [==============================] - 8s 4ms/step - loss: 0.4982 - accuracy: 0.8246\n",
            "Epoch 2/5\n",
            "1875/1875 [==============================] - 5s 3ms/step - loss: 0.3752 - accuracy: 0.8654\n",
            "Epoch 3/5\n",
            "1875/1875 [==============================] - 6s 3ms/step - loss: 0.3363 - accuracy: 0.8773\n",
            "Epoch 4/5\n",
            "1875/1875 [==============================] - 5s 3ms/step - loss: 0.3119 - accuracy: 0.8856\n",
            "Epoch 5/5\n",
            "1875/1875 [==============================] - 5s 3ms/step - loss: 0.2936 - accuracy: 0.8913\n",
            "=============== model eavluation =====================\n",
            "313/313 [==============================] - 1s 2ms/step - loss: 0.3458 - accuracy: 0.8734\n"
          ]
        },
        {
          "output_type": "stream",
          "name": "stderr",
          "text": [
            "WARNING:tensorflow:5 out of the last 5 calls to <function Model.make_predict_function.<locals>.predict_function at 0x7fa5d3a2e8b0> triggered tf.function retracing. Tracing is expensive and the excessive number of tracings could be due to (1) creating @tf.function repeatedly in a loop, (2) passing tensors with different shapes, (3) passing Python objects instead of tensors. For (1), please define your @tf.function outside of the loop. For (2), @tf.function has reduce_retracing=True option that can avoid unnecessary retracing. For (3), please refer to https://www.tensorflow.org/guide/function#controlling_retracing and https://www.tensorflow.org/api_docs/python/tf/function for  more details.\n"
          ]
        },
        {
          "output_type": "stream",
          "name": "stdout",
          "text": [
            "313/313 [==============================] - 1s 2ms/step\n",
            "[9.0501762e-06 1.2585534e-06 2.9643429e-06 2.1941020e-08 6.9633065e-06\n",
            " 7.8027733e-02 1.6390165e-06 1.9505635e-02 7.8473742e-05 9.0236634e-01]\n",
            "9\n"
          ]
        }
      ]
    },
    {
      "cell_type": "code",
      "source": [],
      "metadata": {
        "id": "evkisBOsN6mH"
      },
      "execution_count": null,
      "outputs": []
    }
  ],
  "metadata": {
    "colab": {
      "provenance": [],
      "authorship_tag": "ABX9TyM+Sbqd8Z/Ta5MCKt5m8G7j",
      "include_colab_link": true
    },
    "kernelspec": {
      "display_name": "Python 3",
      "name": "python3"
    },
    "language_info": {
      "name": "python"
    }
  },
  "nbformat": 4,
  "nbformat_minor": 0
}